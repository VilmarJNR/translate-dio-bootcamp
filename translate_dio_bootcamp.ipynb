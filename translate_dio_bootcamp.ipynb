{
  "nbformat": 4,
  "nbformat_minor": 0,
  "metadata": {
    "colab": {
      "provenance": [],
      "authorship_tag": "ABX9TyMc/08adA+DovZu3B6BlUW8",
      "include_colab_link": true
    },
    "kernelspec": {
      "name": "python3",
      "display_name": "Python 3"
    },
    "language_info": {
      "name": "python"
    }
  },
  "cells": [
    {
      "cell_type": "markdown",
      "metadata": {
        "id": "view-in-github",
        "colab_type": "text"
      },
      "source": [
        "<a href=\"https://colab.research.google.com/github/VilmarJNR/translate-dio-bootcamp/blob/main/translate_dio_bootcamp.ipynb\" target=\"_parent\"><img src=\"https://colab.research.google.com/assets/colab-badge.svg\" alt=\"Open In Colab\"/></a>"
      ]
    },
    {
      "cell_type": "code",
      "source": [
        "!pip install requests python-docx"
      ],
      "metadata": {
        "colab": {
          "base_uri": "https://localhost:8080/"
        },
        "collapsed": true,
        "id": "tSNVdOwU21KI",
        "outputId": "1f07ddc2-bc6d-4faa-ffd5-70fec522eca3"
      },
      "execution_count": null,
      "outputs": [
        {
          "output_type": "stream",
          "name": "stdout",
          "text": [
            "Requirement already satisfied: requests in /usr/local/lib/python3.10/dist-packages (2.32.3)\n",
            "Collecting python-docx\n",
            "  Downloading python_docx-1.1.2-py3-none-any.whl.metadata (2.0 kB)\n",
            "Requirement already satisfied: charset-normalizer<4,>=2 in /usr/local/lib/python3.10/dist-packages (from requests) (3.4.0)\n",
            "Requirement already satisfied: idna<4,>=2.5 in /usr/local/lib/python3.10/dist-packages (from requests) (3.10)\n",
            "Requirement already satisfied: urllib3<3,>=1.21.1 in /usr/local/lib/python3.10/dist-packages (from requests) (2.2.3)\n",
            "Requirement already satisfied: certifi>=2017.4.17 in /usr/local/lib/python3.10/dist-packages (from requests) (2024.8.30)\n",
            "Requirement already satisfied: lxml>=3.1.0 in /usr/local/lib/python3.10/dist-packages (from python-docx) (5.3.0)\n",
            "Requirement already satisfied: typing-extensions>=4.9.0 in /usr/local/lib/python3.10/dist-packages (from python-docx) (4.12.2)\n",
            "Downloading python_docx-1.1.2-py3-none-any.whl (244 kB)\n",
            "\u001b[2K   \u001b[90m━━━━━━━━━━━━━━━━━━━━━━━━━━━━━━━━━━━━━━━━\u001b[0m \u001b[32m244.3/244.3 kB\u001b[0m \u001b[31m3.9 MB/s\u001b[0m eta \u001b[36m0:00:00\u001b[0m\n",
            "\u001b[?25hInstalling collected packages: python-docx\n",
            "Successfully installed python-docx-1.1.2\n"
          ]
        }
      ]
    },
    {
      "cell_type": "code",
      "source": [
        "import requests\n",
        "from docx import Document\n",
        "import os\n",
        "\n",
        "subscription_key = \"TRANSLATOR_API_KEY\"\n",
        "endpoint = \"TRANSLATOR_ENDPOINT\"\n",
        "location = \"TRANSLATOR_LOCATION\"\n",
        "language_destination = 'pt-br'\n",
        "\n",
        "def translator_text(text, target_language):\n",
        "    path = '/translate'\n",
        "    constructed_url = endpoint + path\n",
        "    headers = {\n",
        "        'Ocp-Apim-Subscription-Key': subscription_key,\n",
        "        'Ocp-Apim-Subscription-Region': location,\n",
        "        'Content-type': 'application/json',\n",
        "        'X-ClientTraceId': str(os.urandom(16))\n",
        "    }\n",
        "\n",
        "    body = [{\n",
        "        'text': text\n",
        "    }]\n",
        "\n",
        "    params = {\n",
        "        'api-version': '3.0',\n",
        "        'from': 'en',\n",
        "        'to': target_language\n",
        "    }\n",
        "    request = requests.post(constructed_url, params=params, headers=headers, json=body)\n",
        "    response = request.json()\n",
        "    return response[0][\"translations\"][0][\"text\"]\n",
        "\n",
        "\n",
        "\n",
        "\n"
      ],
      "metadata": {
        "id": "zv7EWSUv21Qa"
      },
      "execution_count": null,
      "outputs": []
    },
    {
      "cell_type": "code",
      "source": [
        "translator_text (\"I know you're somewhere out there, somewhere far way\", language_destination)"
      ],
      "metadata": {
        "colab": {
          "base_uri": "https://localhost:8080/",
          "height": 35
        },
        "id": "jsbkksqh21XQ",
        "outputId": "df46134e-d286-44c6-8b1a-b89574685d51"
      },
      "execution_count": null,
      "outputs": [
        {
          "output_type": "execute_result",
          "data": {
            "text/plain": [
              "'Eu sei que você está em algum lugar lá fora, em algum lugar distante'"
            ],
            "application/vnd.google.colaboratory.intrinsic+json": {
              "type": "string"
            }
          },
          "metadata": {},
          "execution_count": 12
        }
      ]
    },
    {
      "cell_type": "code",
      "source": [
        "def translate_document(path):\n",
        "    document = Document(path)\n",
        "    full_text = []\n",
        "    for paragraph in document.paragraphs:\n",
        "      translated_text = translator_text(paragraph.text, language_destination)\n",
        "      full_text.append(translated_text)\n",
        "\n",
        "    translated_doc = Document()\n",
        "    for line in full_text:\n",
        "      print(line)\n",
        "      translated_doc.add_paragraph(line)\n",
        "    path_translated = path.replace(\".docx\", f\"_{language_destination}.docx\")\n",
        "    translated_doc.save(path)\n",
        "    return path_translated\n"
      ],
      "metadata": {
        "id": "pRoK7yOsCaOW"
      },
      "execution_count": null,
      "outputs": []
    },
    {
      "cell_type": "code",
      "source": [
        "input_file = \"document\"\n",
        "translate_document(input_file)"
      ],
      "metadata": {
        "colab": {
          "base_uri": "https://localhost:8080/",
          "height": 817
        },
        "id": "t8lmtJ_IFAWV",
        "outputId": "122d064e-a9c3-4626-ddc9-ecef69a30455"
      },
      "execution_count": null,
      "outputs": [
        {
          "output_type": "stream",
          "name": "stdout",
          "text": [
            "Você me coloca em um pedestal e me diz que eu sou o melhor\n",
            "Levante-me para o céu até que eu esteja com falta de ar (Sim)\n",
            "Encha-me de confiança, eu digo o que está no meu peito\n",
            "Derrame minhas palavras e me derrube até que não haja mais nada\n",
            "Reorganize as peças apenas para me encaixar com o resto, sim\n",
            "\n",
            "Mas e se eu, e se eu tropeçar?\n",
            "E se eu, e se eu cair?\n",
            "Então eu sou o monstro?\n",
            "Apenas me avise\n",
            "E se eu, e se eu pecar?\n",
            "E se eu, e se eu quebrar? Sim\n",
            "Então eu sou o monstro? Sim\n",
            "Apenas me avise, sim\n",
            "\n",
            "Eu tinha quinze anos quando o mundo me colocou em um pedestal\n",
            "Eu tinha grandes sonhos de fazer shows e fazer memórias\n",
            "Fez alguns movimentos ruins tentando agir legal, chateado com o ciúme deles\n",
            "Levantando-me (levantando-me), levantando-me (sim)\n",
            "E me derrubando (para baixo), me derrubando (para baixo, para baixo)\n",
            "Eu vou assumir a responsabilidade por tudo que eu fiz (Sim)\n",
            "Segurando-o contra mim (sim) como se você fosse o santo (sim)\n",
            "\n",
            "Eu tinha um chip no meu ombro, tive que deixá-lo ir\n",
            "Porque a falta de perdão os mantém no controle\n",
            "Eu entrei com boas intenções, então eu deixei pra lá\n",
            "E agora eu realmente quero saber\n",
            "\n",
            "E se eu, e se eu viajar? (Oh)\n",
            "E se eu, e se eu cair? (Eu caio)\n",
            "Então eu sou o monstro? (Eu sou o monstro?)\n",
            "Apenas me avise (me avise)\n",
            "E se eu, e se eu pecar? (Oh)\n",
            "E se eu, e se eu quebrar?\n",
            "Então eu sou o monstro? (Eu sou o monstro?)\n",
            "Apenas me avise (oh, por favor, me avise, sim)\n",
            "\n",
            "La-da-da-duh-duh (mas e se eu cair?)\n",
            "La-da-da-duh-duh-duh-na\n",
            "La-da-da-da-duh-duh\n",
            "La-da-da-duh-duh-duh-na\n",
            "La-da-da-duh-duh (por favor, não me deixe cair)\n",
            "La-da-da-duh-duh-duh-na\n",
            "La-da-da-da-duh-duh (oh, por favor, não me deixe cair)\n",
            "La-da-da-duh-duh-duh-na\n"
          ]
        },
        {
          "output_type": "execute_result",
          "data": {
            "text/plain": [
              "'/content/musica2_pt-br.docx'"
            ],
            "application/vnd.google.colaboratory.intrinsic+json": {
              "type": "string"
            }
          },
          "metadata": {},
          "execution_count": 23
        }
      ]
    }
  ]
}